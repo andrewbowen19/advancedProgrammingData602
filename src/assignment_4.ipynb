{
 "cells": [
  {
   "cell_type": "markdown",
   "metadata": {},
   "source": [
    "**Q1: Create a class called BankAccount that has four attributes: bankname, firstname, lastname, and balance.\n",
    "The default balance should be set to 0.**\n",
    "\n",
    "- A method called `deposit()` that allows the user to make deposits into their balance.\n",
    "- A method called `withdrawal()` that allows the user to withdraw from their balance.\n",
    "- Withdrawal may not exceed the available balance. Hint: consider a conditional argument\n",
    "in your `withdrawal()` method.\n",
    "- Use the `__str__()` method in order to display the bank name, owner name, and current\n",
    "balance.\n",
    "- Make a series of deposits and withdrawals to test your class.\n"
   ]
  },
  {
   "cell_type": "code",
   "execution_count": 1,
   "metadata": {},
   "outputs": [],
   "source": [
    "class BankAccount:\n",
    "\n",
    "    def __init__(self, bankname, firstname, lastname):\n",
    "        self.bankname = bankname\n",
    "        self.firstname = firstname\n",
    "        self.lastname = lastname\n",
    "        self.balance = 0\n",
    "\n",
    "    def deposit(self, amount):\n",
    "        self.balance += amount\n",
    "\n",
    "    def withdraw(self, amount):\n",
    "        '''Allow user to withdraw from account. Throws error if withdrawal amount > balance'''\n",
    "        if amount > self.balance:\n",
    "            raise Error(f\"You cannot withdraw more than your account balance: ${self.balance}\")\n",
    "        else:\n",
    "            self.balance -= amount\n",
    "\n",
    "    def __str__(self):\n",
    "        print(f\"Bank: {self.bankname}\")\n",
    "        print(f\"Owner Name: {self.firstname} {self.lastname}\")\n",
    "        print(f\"Balance: ${self.balance}\")"
   ]
  },
  {
   "cell_type": "code",
   "execution_count": 2,
   "metadata": {},
   "outputs": [
    {
     "name": "stdout",
     "output_type": "stream",
     "text": [
      "Bank: First Bank\n",
      "Owner Name: Andrew Bowen\n",
      "Balance: $300\n",
      "----------------------\n",
      "Bank: First Bank\n",
      "Owner Name: Andrew Bowen\n",
      "Balance: $250\n"
     ]
    }
   ],
   "source": [
    "# Test calls\n",
    "ba = BankAccount(\"First Bank\", \"Andrew\", \"Bowen\")\n",
    "\n",
    "# Making deposits\n",
    "ba.deposit(100)\n",
    "ba.deposit(200)\n",
    "ba.__str__()\n",
    "print(\"----------------------\")\n",
    "\n",
    "# Now let's withdraw and check our info\n",
    "ba.withdraw(50)\n",
    "\n",
    "ba.__str__()\n",
    "\n"
   ]
  },
  {
   "cell_type": "code",
   "execution_count": 3,
   "metadata": {},
   "outputs": [
    {
     "ename": "NameError",
     "evalue": "name 'Error' is not defined",
     "output_type": "error",
     "traceback": [
      "\u001b[0;31m---------------------------------------------------------------------------\u001b[0m",
      "\u001b[0;31mNameError\u001b[0m                                 Traceback (most recent call last)",
      "\u001b[1;32m/Users/andrewbowen/CUNY/advancedProgrammingData602/src/assignment_4.ipynb Cell 4\u001b[0m in \u001b[0;36m<cell line: 3>\u001b[0;34m()\u001b[0m\n\u001b[1;32m      <a href='vscode-notebook-cell:/Users/andrewbowen/CUNY/advancedProgrammingData602/src/assignment_4.ipynb#W3sZmlsZQ%3D%3D?line=0'>1</a>\u001b[0m \u001b[39m# Now let's try to withdraw too much!\u001b[39;00m\n\u001b[1;32m      <a href='vscode-notebook-cell:/Users/andrewbowen/CUNY/advancedProgrammingData602/src/assignment_4.ipynb#W3sZmlsZQ%3D%3D?line=1'>2</a>\u001b[0m \u001b[39m# We should receive an error here\u001b[39;00m\n\u001b[0;32m----> <a href='vscode-notebook-cell:/Users/andrewbowen/CUNY/advancedProgrammingData602/src/assignment_4.ipynb#W3sZmlsZQ%3D%3D?line=2'>3</a>\u001b[0m ba\u001b[39m.\u001b[39;49mwithdraw(\u001b[39m275\u001b[39;49m)\n",
      "\u001b[1;32m/Users/andrewbowen/CUNY/advancedProgrammingData602/src/assignment_4.ipynb Cell 4\u001b[0m in \u001b[0;36mBankAccount.withdraw\u001b[0;34m(self, amount)\u001b[0m\n\u001b[1;32m     <a href='vscode-notebook-cell:/Users/andrewbowen/CUNY/advancedProgrammingData602/src/assignment_4.ipynb#W3sZmlsZQ%3D%3D?line=12'>13</a>\u001b[0m \u001b[39m'''Allow user to withdraw from account. Throws error if withdrawal amount > balance'''\u001b[39;00m\n\u001b[1;32m     <a href='vscode-notebook-cell:/Users/andrewbowen/CUNY/advancedProgrammingData602/src/assignment_4.ipynb#W3sZmlsZQ%3D%3D?line=13'>14</a>\u001b[0m \u001b[39mif\u001b[39;00m amount \u001b[39m>\u001b[39m \u001b[39mself\u001b[39m\u001b[39m.\u001b[39mbalance:\n\u001b[0;32m---> <a href='vscode-notebook-cell:/Users/andrewbowen/CUNY/advancedProgrammingData602/src/assignment_4.ipynb#W3sZmlsZQ%3D%3D?line=14'>15</a>\u001b[0m     \u001b[39mraise\u001b[39;00m Error(\u001b[39mf\u001b[39m\u001b[39m\"\u001b[39m\u001b[39mYou cannot withdraw more than your account balance: $\u001b[39m\u001b[39m{\u001b[39;00m\u001b[39mself\u001b[39m\u001b[39m.\u001b[39mbalance\u001b[39m}\u001b[39;00m\u001b[39m\"\u001b[39m)\n\u001b[1;32m     <a href='vscode-notebook-cell:/Users/andrewbowen/CUNY/advancedProgrammingData602/src/assignment_4.ipynb#W3sZmlsZQ%3D%3D?line=15'>16</a>\u001b[0m \u001b[39melse\u001b[39;00m:\n\u001b[1;32m     <a href='vscode-notebook-cell:/Users/andrewbowen/CUNY/advancedProgrammingData602/src/assignment_4.ipynb#W3sZmlsZQ%3D%3D?line=16'>17</a>\u001b[0m     \u001b[39mself\u001b[39m\u001b[39m.\u001b[39mbalance \u001b[39m-\u001b[39m\u001b[39m=\u001b[39m amount\n",
      "\u001b[0;31mNameError\u001b[0m: name 'Error' is not defined"
     ]
    }
   ],
   "source": [
    "# Now let's try to withdraw too much!\n",
    "# We should receive an error here\n",
    "ba.withdraw(275)"
   ]
  },
  {
   "cell_type": "markdown",
   "metadata": {},
   "source": [
    "### Q2: \n",
    "**Create a class Box that has attributes length and width that takes values for length and width upon construction (instantiation via the constructor).**\n",
    "In addition, create...\n",
    "- A method called `render()` that prints out to the screen a box made with asterisks of\n",
    "length and width dimensions\n",
    "- A method called `invert()` that switches length and width with each other\n",
    "- Methods `get_area()` and get_perimeter() that return appropriate geometric calculations\n",
    "- A method called `double()` that doubles the size of the box. Hint: Pay attention to return\n",
    "value here.\n",
    "- Implement __eq__ so that two boxes can be compared using ==. Two boxes are equal if\n",
    "their respective lengths and widths are identical.\n",
    "- A method `print_dim()` that prints to screen the length and width details of the box\n",
    "- A method `get_dim()` that returns a tuple containing the length and width of the box\n",
    "- A method `combine()` that takes another box as an argument and increases the length\n",
    "and width by the dimensions of the box passed in\n",
    "- A method `get_hypot()` that finds the length of the diagonal that cuts through the middle\n",
    "- Instantiate 3 boxes of dimensions 5,10 , 3,4 and 5,10 and assign to variables box1, box2 and box3 respectively\n",
    "- Print dimension info for each using print_dim()\n",
    "- Evaluate if `box1 == box2`, and also evaluate if `box1 == box3`, print True or False to the\n",
    "screen accordingly\n",
    "- Combine `box3` into `box1` (i.e. `box1.combine()`)\n",
    "- Double the size of `box2`\n",
    "- Combine `box2` into `box1`"
   ]
  },
  {
   "cell_type": "code",
   "execution_count": 5,
   "metadata": {},
   "outputs": [],
   "source": [
    "class Box:\n",
    "    def __init__(self, width: int, length: int):\n",
    "        self.length = length\n",
    "        self.width = width\n",
    "\n",
    "    def render(self):\n",
    "        '''prints box of asterisks of width and length'''\n",
    "        for i in range(self.length):\n",
    "            # for j in range(self.length):\n",
    "            asterisks = \"*\" * self.width\n",
    "            print(asterisks)\n",
    "    \n",
    "    def invert(self):\n",
    "        '''switches width and length attrs'''\n",
    "        width = self.width\n",
    "        length = self.length\n",
    "        self.width = length\n",
    "        self.length = width\n",
    "\n",
    "    def get_area(self):\n",
    "        return self.width * self.length\n",
    "\n",
    "    def get_perimeter(self):\n",
    "        return 2 * self.width + 2 * self.length\n",
    "\n",
    "    def double(self):\n",
    "        self.width = 2 * self.width\n",
    "        self.length = 2 * self.length\n",
    "\n",
    "    def __eq__(self, other):\n",
    "        return self.width == other.width and self.length == other.length\n",
    "\n",
    "    def print_dim(self):\n",
    "        print(f\"Width: {self.width} | Length: {self.length}\")\n",
    "\n",
    "    def get_dim(self):\n",
    "        return self.width, self.length\n",
    "\n",
    "    def combine(self, other):\n",
    "        self.width += other.width\n",
    "        self.length += other.length\n",
    "\n",
    "    def get_hypot(self):\n",
    "        return self.width ** 2 + self.length ** 2\n"
   ]
  },
  {
   "cell_type": "code",
   "execution_count": 6,
   "metadata": {},
   "outputs": [
    {
     "name": "stdout",
     "output_type": "stream",
     "text": [
      "Width: 5 | Length: 10\n",
      "Width: 3 | Length: 4\n",
      "Width: 5 | Length: 10\n"
     ]
    }
   ],
   "source": [
    "# Test call of render\n",
    "box1 = Box(5, 10)\n",
    "box2 = Box(3, 4)\n",
    "box3 = Box(5, 10)\n",
    "\n",
    "# Printing dimensions\n",
    "box1.print_dim()\n",
    "box2.print_dim()\n",
    "box3.print_dim()"
   ]
  },
  {
   "cell_type": "code",
   "execution_count": 7,
   "metadata": {},
   "outputs": [
    {
     "name": "stdout",
     "output_type": "stream",
     "text": [
      "False\n",
      "True\n"
     ]
    }
   ],
   "source": [
    "# testing equality of objects\n",
    "print(box1 == box2)\n",
    "print(box1 == box3)\n"
   ]
  },
  {
   "cell_type": "code",
   "execution_count": 8,
   "metadata": {},
   "outputs": [
    {
     "name": "stdout",
     "output_type": "stream",
     "text": [
      "Width: 5 | Length: 10\n",
      "Width: 10 | Length: 20\n"
     ]
    }
   ],
   "source": [
    "# combining box 3 into box 1\n",
    "box1.print_dim()\n",
    "box1.combine(box3)\n",
    "\n",
    "box1.print_dim()"
   ]
  },
  {
   "cell_type": "code",
   "execution_count": 9,
   "metadata": {},
   "outputs": [],
   "source": [
    "# Double size of box2\n",
    "box2.double()"
   ]
  },
  {
   "cell_type": "code",
   "execution_count": 10,
   "metadata": {},
   "outputs": [
    {
     "name": "stdout",
     "output_type": "stream",
     "text": [
      "Width: 10 | Length: 20\n",
      "Width: 16 | Length: 28\n"
     ]
    }
   ],
   "source": [
    "# combine box2 into box1\n",
    "box1.print_dim()\n",
    "box1.combine(box2)\n",
    "box1.print_dim()"
   ]
  },
  {
   "cell_type": "code",
   "execution_count": null,
   "metadata": {},
   "outputs": [],
   "source": []
  }
 ],
 "metadata": {
  "kernelspec": {
   "display_name": "Python 3.9.8 64-bit ('3.9.8')",
   "language": "python",
   "name": "python3"
  },
  "language_info": {
   "codemirror_mode": {
    "name": "ipython",
    "version": 3
   },
   "file_extension": ".py",
   "mimetype": "text/x-python",
   "name": "python",
   "nbconvert_exporter": "python",
   "pygments_lexer": "ipython3",
   "version": "3.9.8"
  },
  "orig_nbformat": 4,
  "vscode": {
   "interpreter": {
    "hash": "7f0685c01858db048764fca640eb7b3524daa3194cac85a179f7e916fc7694df"
   }
  }
 },
 "nbformat": 4,
 "nbformat_minor": 2
}
