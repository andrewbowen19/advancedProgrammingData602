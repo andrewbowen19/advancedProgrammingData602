{
  "nbformat": 4,
  "nbformat_minor": 0,
  "metadata": {
    "colab": {
      "provenance": [],
      "include_colab_link": true
    },
    "kernelspec": {
      "name": "python3",
      "display_name": "Python 3"
    }
  },
  "cells": [
    {
      "cell_type": "markdown",
      "metadata": {
        "id": "view-in-github",
        "colab_type": "text"
      },
      "source": [
        "<a href=\"https://colab.research.google.com/github/andrewbowen19/advancedProgrammingData602/blob/main/assignment8.ipynb\" target=\"_parent\"><img src=\"https://colab.research.google.com/assets/colab-badge.svg\" alt=\"Open In Colab\"/></a>"
      ]
    },
    {
      "cell_type": "markdown",
      "metadata": {
        "id": "rd2QZetSDszc"
      },
      "source": [
        "# **Assignment 8**\n",
        "\n",
        "# **Weeks 10 & 11 - matplotlib & seaborn**\n",
        "* In this homework assignment, you will explore and analyze a public dataset of your choosing. Since this assignment is “open-ended” in nature, you are free to expand upon the requirements below. However, you must meet the minimum requirments as indicated in each section. \n",
        "\n",
        "\n",
        "* The preferred method for this analysis is in a .ipynb file. Feel free to use whichever platform of your choosing.  \n",
        "\n",
        "\n",
        "### **Some data examples:**\n",
        "•\thttps://www.data.gov/\n",
        "\n",
        "•\thttps://opendata.cityofnewyork.us/\n",
        "\n",
        "•\thttps://datasetsearch.research.google.com/\n",
        "\n",
        "•\thttps://archive.ics.uci.edu/ml/index.php\n",
        "\n",
        "### **Resources:**\n",
        "\n",
        "•\thttps://pandas.pydata.org/pandas-docs/stable/getting_started/10min.html \n",
        "\n",
        "•\thttps://www.oreilly.com/library/view/python-data-science/9781491912126/ch04.html\n",
        "\n",
        "•\thttps://www.data-to-viz.com/\n",
        "\n",
        "\n",
        "\n",
        "### **Headings or comments**\n",
        "**You are required to make use of comments, or headings for each section.  You must explain what your code is doing, and the results of running your code.**  Act as if you were giving this assignment to your manager - you must include clear and descriptive information for each section.\n",
        "\n",
        "### **You may work as a group or indivdually on this assignment.**\n"
      ]
    },
    {
      "cell_type": "markdown",
      "metadata": {
        "id": "uW3w6p8rqgxu"
      },
      "source": [
        "# Introduction\n",
        "\n",
        "In this section, please describe the dataset you are using.  Include a link to the source of this data.  You should also provide some explanation on why you choose this dataset."
      ]
    },
    {
      "cell_type": "markdown",
      "metadata": {
        "id": "L0PnfMOFzOXz"
      },
      "source": []
    },
    {
      "cell_type": "markdown",
      "metadata": {
        "id": "3bp8cdDxDs2t"
      },
      "source": [
        "______________\n",
        "# Data Exploration\n",
        "Import your dataset into your .ipynb, create dataframes, and explore your data.  \n",
        "\n",
        "Include: \n",
        "\n",
        "* Summary statistics means, medians, quartiles, \n",
        "* Missing value information\n",
        "* Any other relevant information about the dataset.  \n",
        "\n"
      ]
    },
    {
      "cell_type": "code",
      "source": [],
      "metadata": {
        "id": "3NUlO_ru1WqR"
      },
      "execution_count": null,
      "outputs": []
    },
    {
      "cell_type": "markdown",
      "metadata": {
        "id": "kCSLIafaEGVK"
      },
      "source": [
        "# Data Wrangling\n",
        "\n",
        "Perform data wrangling.  You are free to use your best judgment here.  If you are stuck, look at previous assignment."
      ]
    },
    {
      "cell_type": "code",
      "source": [],
      "metadata": {
        "id": "xEkLsm7g1UiZ"
      },
      "execution_count": null,
      "outputs": []
    },
    {
      "cell_type": "markdown",
      "source": [
        "# Visualizations\n",
        "\n",
        "The main purpose of this assignment is to practice creating various visualizations using the matplotlib and seaborn library.\n",
        "\n",
        "### **Part 1:**\n",
        "Using matplotlib, create ***two or more plots*** that incorporate at least **5** of the following properties:\n",
        "\n",
        "Note: these properties vary based on your data.  The goal is to practice creating visualizations and modifying its properties. \n",
        "\n",
        "*   Use and change a legend position\n",
        "*   Change a legend font size\n",
        "*   Place a legend outside of the plot\n",
        "*   Create a single legend for all subplots\n",
        "*   Change the title and x/y labels\n",
        "*   Change the marker, line colors, and line width\n",
        "*   Add annotations\n",
        "*   Modify Axis Text Ticks/Labels\n",
        "*   Change size of axis Labels\n",
        "*   Your own choice not included above \n",
        "\n",
        "\n",
        "Plots that you can create **include**:\n",
        "\n",
        "*   Scatter Plot\n",
        "*   Bar plot\n",
        "*   Line Chart\n",
        "*   Multi Plots (e.g. using .subplot()\n",
        "*   Histogram\n",
        "\n",
        "You can add another plot not listed here if it works better for your data.  This is not a complete list of plots to create.\n",
        "\n",
        "### **Part 2:**\n",
        "\n",
        "Recreate the visualizations above using the Seaborn library as best as possible.  \n",
        "\n",
        "\n",
        "**You are required to explain what each of your plots is representing. Plots without comments will not be accepted.**  In addition, please explain the properties you are showcasing.\n",
        "\n",
        "\n",
        "### **Part 3:**\n",
        "In a comment or text box, explain the differences between creating a plot in matplotlib and seaborn, based on your above plots.\n",
        "\n"
      ],
      "metadata": {
        "id": "uJdF3TMe_TXU"
      }
    },
    {
      "cell_type": "code",
      "metadata": {
        "id": "4VWWvvynEiQT"
      },
      "source": [],
      "execution_count": null,
      "outputs": []
    },
    {
      "cell_type": "code",
      "source": [],
      "metadata": {
        "id": "N9sKmrIrDbhd"
      },
      "execution_count": null,
      "outputs": []
    },
    {
      "cell_type": "markdown",
      "source": [],
      "metadata": {
        "id": "vFa4bNTyDbzb"
      }
    },
    {
      "cell_type": "markdown",
      "source": [
        "# Conclusions  \n",
        "\n",
        "After exploring your dataset, provide a short summary of what you noticed from this dataset.  "
      ],
      "metadata": {
        "id": "tujjevRpXEen"
      }
    },
    {
      "cell_type": "code",
      "source": [],
      "metadata": {
        "id": "SshtuQj9XR5_"
      },
      "execution_count": null,
      "outputs": []
    }
  ]
}