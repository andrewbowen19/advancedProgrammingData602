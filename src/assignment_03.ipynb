{
 "cells": [
  {
   "cell_type": "markdown",
   "metadata": {},
   "source": [
    "## DATA602: Assignment 3\n",
    "Writing [`assignment_03`](https://docs.google.com/document/d/18gwCoy0FIW3uC9E1u7eOBwqzxib61G9H/edit?amp;ouid=117097115013747785790&amp;rtpof=true&amp;sd=true) in a jupyter notebook for more modularity"
   ]
  },
  {
   "cell_type": "markdown",
   "metadata": {},
   "source": [
    "*Q1:* Write a program that prompts the user for a meal: breakfast, lunch, or dinner. Then using if statements and else statements print the user a message recommending a meal. For example, if the meal was breakfast, you could say something like, “How about some bacon and eggs?”\n",
    "The user may enter something else in, but you only have to respond to breakfast, lunch, or dinner.\n"
   ]
  },
  {
   "cell_type": "code",
   "execution_count": 5,
   "metadata": {},
   "outputs": [
    {
     "name": "stdout",
     "output_type": "stream",
     "text": [
      "Please select from Breakfast, Lunch, or Dinner\n"
     ]
    }
   ],
   "source": [
    "meal_desired = input(\"What meal would you like? (breakfast, lunch, dinner): \").lower()\n",
    "\n",
    "# Sanitizing input with lower call\n",
    "if meal_desired == 'breakfast':\n",
    "    print(\"How about bacon and eggs?\")\n",
    "elif meal_desired == 'lunch':\n",
    "    print(\"You should have a PB&J!\")\n",
    "elif meal_desired == 'dinner':\n",
    "    print(\"Let's make salmon and salad!\")\n",
    "else:\n",
    "    print(\"Please select from Breakfast, Lunch, or Dinner\")"
   ]
  },
  {
   "cell_type": "markdown",
   "metadata": {},
   "source": [
    "*Q2:* The mailroom has asked you to design a simple payroll program that calculates a student employee’s gross pay, including any overtime wages. If any employee works over 20 hours in a week, the mailroom pays them 1.5 times their regular hourly pay rate for all hours over 20. \n",
    "You should take in the user’s input for the number of hours worked, and their rate of pay.\n"
   ]
  },
  {
   "cell_type": "code",
   "execution_count": 3,
   "metadata": {},
   "outputs": [
    {
     "data": {
      "text/plain": [
       "262.5"
      ]
     },
     "execution_count": 3,
     "metadata": {},
     "output_type": "execute_result"
    }
   ],
   "source": [
    "def calculate_payroll(pay_rate, hours_worked, overtime_limit=20):\n",
    "    \"\"\"\n",
    "    Calculates gross pay\n",
    "    \"\"\"\n",
    "    gross_pay = 0\n",
    "    # overtime pay\n",
    "    if hours_worked > overtime_limit:\n",
    "        extra_hours = hours_worked - overtime_limit\n",
    "        gross_pay = (pay_rate * overtime_limit) + (1.5 * pay_rate * extra_hours)\n",
    "    else:\n",
    "        gross_pay = pay_rate * hours_worked\n",
    "    return gross_pay\n",
    "\n",
    "normal_time = calculate_payroll(7.50, 20)\n",
    "overtime = calculate_payroll(7.50, 30)\n",
    "\n",
    "print(f\"Normal pay (20hr): ${normal_time}\")\n",
    "print(f\"overtime pay: {overtime}\")\n",
    "\n"
   ]
  },
  {
   "cell_type": "markdown",
   "metadata": {},
   "source": [
    "**Q3:** Write a function named times_ten. The function should accept an argument and display the product of its argument multiplied times 10.\n"
   ]
  },
  {
   "cell_type": "code",
   "execution_count": 5,
   "metadata": {},
   "outputs": [
    {
     "name": "stdout",
     "output_type": "stream",
     "text": [
      "100\n",
      "sample string!sample string!sample string!sample string!sample string!sample string!sample string!sample string!sample string!sample string!\n"
     ]
    }
   ],
   "source": [
    "def times_ten(my_arg):\n",
    "    print(my_arg * 10)\n",
    "\n",
    "# dynamic typing here makes this function a bit tricky\n",
    "times_ten(10)\n",
    "times_ten(\"sample string!\")"
   ]
  },
  {
   "cell_type": "markdown",
   "metadata": {},
   "source": [
    "**Q4*:** Find the errors, debug the program, and then execute to show the output.\n"
   ]
  },
  {
   "cell_type": "code",
   "execution_count": 13,
   "metadata": {},
   "outputs": [
    {
     "name": "stdout",
     "output_type": "stream",
     "text": [
      "The total calories you ate today: 200, 350\n"
     ]
    }
   ],
   "source": [
    "def main():\n",
    "    calories1 = input( \"How many calories are in the first food?\")\n",
    "    calories2 = input( \"How many calories are in the first food?\")\n",
    "    showCalories(calories1, calories2)\n",
    "\n",
    "def showCalories(calories1, calories2):\n",
    "    '''Format calorie display string with an f-stringz'''\n",
    "    print(f\"The total calories you ate today: {calories1}, {calories2}\")\n",
    "\n",
    "# Need to actually the main function for this program to run\n",
    "main()\n"
   ]
  },
  {
   "cell_type": "markdown",
   "metadata": {},
   "source": [
    "**Q5:** Write a program that uses any loop (while or for) that calculates the total of the following series of numbers:    \n",
    "$1/30 + 2/29 + 3/28 ............. + 30/1$\n"
   ]
  },
  {
   "cell_type": "code",
   "execution_count": 18,
   "metadata": {},
   "outputs": [
    {
     "name": "stdout",
     "output_type": "stream",
     "text": [
      "93.84460105853213\n"
     ]
    }
   ],
   "source": [
    "total = 0\n",
    "for i in range(1, 31):\n",
    "    term = i / (31 - i)\n",
    "    total += term\n",
    "print(total)"
   ]
  },
  {
   "cell_type": "markdown",
   "metadata": {},
   "source": [
    "**Q6:** Write a function that computes the area of a triangle given its base and height.\n",
    "The formula for an area of a triangle is:\n",
    "$AREA = \\frac{1}{2} * BASE * HEIGHT$\n",
    "\n",
    "For example, if the base was 5 and the height was 4, the area would be 10.\n",
    "`triangle_area(5, 4)   # should print 10`\n"
   ]
  },
  {
   "cell_type": "code",
   "execution_count": 19,
   "metadata": {},
   "outputs": [
    {
     "data": {
      "text/plain": [
       "10.0"
      ]
     },
     "execution_count": 19,
     "metadata": {},
     "output_type": "execute_result"
    }
   ],
   "source": [
    "def triangle_area(base: float, height: float) -> float:\n",
    "    '''calculates area of triangle given base & height'''\n",
    "    return 0.5 * base * height\n",
    "\n",
    "triangle_area(5, 4)"
   ]
  },
  {
   "cell_type": "code",
   "execution_count": null,
   "metadata": {},
   "outputs": [],
   "source": []
  }
 ],
 "metadata": {
  "kernelspec": {
   "display_name": "Python 3.9.8 64-bit ('3.9.8')",
   "language": "python",
   "name": "python3"
  },
  "language_info": {
   "codemirror_mode": {
    "name": "ipython",
    "version": 3
   },
   "file_extension": ".py",
   "mimetype": "text/x-python",
   "name": "python",
   "nbconvert_exporter": "python",
   "pygments_lexer": "ipython3",
   "version": "3.9.8"
  },
  "orig_nbformat": 4,
  "vscode": {
   "interpreter": {
    "hash": "7f0685c01858db048764fca640eb7b3524daa3194cac85a179f7e916fc7694df"
   }
  }
 },
 "nbformat": 4,
 "nbformat_minor": 2
}
